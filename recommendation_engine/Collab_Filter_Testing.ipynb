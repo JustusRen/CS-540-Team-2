{
 "cells": [
  {
   "cell_type": "markdown",
   "id": "d82d4538",
   "metadata": {},
   "source": [
    "# Collaborative Filtering -- Item Based Collaborative Filtering with Single Value Decomposition\n",
    "\n",
    "https://surprise.readthedocs.io/en/stable/FAQ.html\n",
    "\n",
    "https://www.kaggle.com/code/ibtesama/getting-started-with-a-movie-recommendation-system"
   ]
  },
  {
   "cell_type": "code",
   "execution_count": 12,
   "id": "98a0c28f",
   "metadata": {},
   "outputs": [],
   "source": [
    "import pandas as pd \n",
    "import numpy as np \n",
    "import os\n",
    "\n",
    "from surprise import SVD\n",
    "from surprise import Dataset\n",
    "from surprise.model_selection import cross_validate\n",
    "from collections import defaultdict\n",
    "from surprise import Reader\n",
    "from surprise import accuracy"
   ]
  },
  {
   "cell_type": "code",
   "execution_count": 13,
   "id": "7ef751b5",
   "metadata": {},
   "outputs": [],
   "source": [
    "#import data\n",
    "# df_movies=pd.read_csv('ml-25m/movies.csv')\n",
    "# df_tags=pd.read_csv('ml-25m/tags.csv')\n",
    "df_ratings=pd.read_csv('../db/movieLens/processed/rating.csv')\n",
    "# df_links=pd.read_csv('ml-25m/links.csv')\n",
    "# df_gscore=pd.read_csv('ml-25m/genome-scores.csv')\n",
    "# df_gtag=pd.read_csv('ml-25m/genome-tags.csv')"
   ]
  },
  {
   "cell_type": "markdown",
   "id": "bfad6fe4",
   "metadata": {},
   "source": [
    "## Traning Data praperation"
   ]
  },
  {
   "cell_type": "code",
   "execution_count": 14,
   "id": "3d61699e",
   "metadata": {},
   "outputs": [],
   "source": [
    "# Sprise library requires a reader to transform data format\n",
    "reader = Reader(rating_scale=(1, 5.0))\n",
    "\n",
    "# calculation is too slow, only use half data, which are the ratings from the first 4838 users \n",
    "# df_ratings_half = df_ratings.head(711900)\n",
    "# data = Dataset.load_from_df(df_ratings_half[['userId', 'movieId', 'rating']], reader) \n",
    "\n",
    "# Full data\n",
    "data = Dataset.load_from_df(df_ratings[['userId', 'movieId', 'rating']], reader)"
   ]
  },
  {
   "cell_type": "code",
   "execution_count": 15,
   "id": "617b66da",
   "metadata": {},
   "outputs": [],
   "source": [
    "# Use the famous SVD algorithm, can be tunned later\n",
    "algo = SVD()"
   ]
  },
  {
   "cell_type": "markdown",
   "id": "483b2a36",
   "metadata": {},
   "source": [
    "## Model Traing\n",
    "Haven't save the model since it is an object, but I checked the documentation of the suprise library, we can reduce the size of training data. In their documentation, training with 100000 ratings by 943 users on 1682 items costs 11s. (We can achieve online training by reducing the size of training data?)\n",
    "\n",
    "Here, the df_ratings_half contains half of the rating data(711899 rating) from 4838 users, which cost 33.2 s to train the model. I saved the model trained on the whole rating data, which cost 22mins."
   ]
  },
  {
   "cell_type": "code",
   "execution_count": 16,
   "id": "94296622",
   "metadata": {},
   "outputs": [
    {
     "name": "stdout",
     "output_type": "stream",
     "text": [
      "CPU times: user 3.32 s, sys: 11.5 ms, total: 3.34 s\n",
      "Wall time: 3.34 s\n"
     ]
    },
    {
     "data": {
      "text/plain": [
       "<surprise.prediction_algorithms.matrix_factorization.SVD at 0x7ff324e46a00>"
      ]
     },
     "execution_count": 16,
     "metadata": {},
     "output_type": "execute_result"
    }
   ],
   "source": [
    "%%time\n",
    "trainset = data.build_full_trainset()\n",
    "algo.fit(trainset)"
   ]
  },
  {
   "cell_type": "markdown",
   "id": "3c4b69b4",
   "metadata": {},
   "source": [
    "## Testing data Praperation"
   ]
  },
  {
   "cell_type": "code",
   "execution_count": 17,
   "id": "2b003aa9",
   "metadata": {},
   "outputs": [],
   "source": [
    "df_ratings_test = df_ratings[df_ratings['userId'] == 100]"
   ]
  },
  {
   "cell_type": "code",
   "execution_count": 18,
   "id": "74bafcbe",
   "metadata": {},
   "outputs": [],
   "source": [
    "test = Dataset.load_from_df(df_ratings_test[['userId', 'movieId', 'rating']], reader)\n",
    "testset1 = test.build_full_trainset()\n",
    "testset = testset1.build_testset()"
   ]
  },
  {
   "cell_type": "code",
   "execution_count": 19,
   "id": "45a6993e",
   "metadata": {
    "scrolled": true
   },
   "outputs": [
    {
     "data": {
      "text/plain": [
       "[(100, 1, 4.0),\n",
       " (100, 3, 4.0),\n",
       " (100, 6, 3.0),\n",
       " (100, 7, 3.0),\n",
       " (100, 25, 4.0),\n",
       " (100, 32, 5.0),\n",
       " (100, 52, 3.0),\n",
       " (100, 62, 3.0),\n",
       " (100, 86, 3.0),\n",
       " (100, 88, 2.0),\n",
       " (100, 95, 3.0),\n",
       " (100, 135, 3.0),\n",
       " (100, 141, 3.0),\n",
       " (100, 608, 4.0),\n",
       " (100, 648, 3.0),\n",
       " (100, 661, 3.0),\n",
       " (100, 708, 3.0),\n",
       " (100, 733, 3.0),\n",
       " (100, 736, 3.0),\n",
       " (100, 745, 4.0),\n",
       " (100, 780, 3.0),\n",
       " (100, 786, 3.0),\n",
       " (100, 802, 4.0),\n",
       " (100, 1073, 5.0),\n",
       " (100, 1356, 4.0)]"
      ]
     },
     "execution_count": 19,
     "metadata": {},
     "output_type": "execute_result"
    }
   ],
   "source": [
    "testset"
   ]
  },
  {
   "cell_type": "markdown",
   "id": "8eb8bf66",
   "metadata": {},
   "source": [
    "## Make prediction"
   ]
  },
  {
   "cell_type": "code",
   "execution_count": 20,
   "id": "984a8f38",
   "metadata": {},
   "outputs": [],
   "source": [
    "def get_top_n(predictions, n=10):\n",
    "    \"\"\"Return the top-N recommendation for each user from a set of predictions.\n",
    "\n",
    "    Args:\n",
    "        predictions(list of Prediction objects): The list of predictions, as\n",
    "            returned by the test method of an algorithm.\n",
    "        n(int): The number of recommendation to output for each user. Default\n",
    "            is 10.\n",
    "\n",
    "    Returns:\n",
    "    A dict where keys are user (raw) ids and values are lists of tuples:\n",
    "        [(raw item id, rating estimation), ...] of size n.\n",
    "    \"\"\"\n",
    "\n",
    "    # First map the predictions to each user.\n",
    "    top_n = defaultdict(list)\n",
    "    for uid, iid, true_r, est, _ in predictions:\n",
    "        top_n[uid].append((iid, est))\n",
    "\n",
    "    # Then sort the predictions for each user and retrieve the k highest ones.\n",
    "    for uid, user_ratings in top_n.items():\n",
    "        user_ratings.sort(key=lambda x: x[1], reverse=True)\n",
    "        top_n[uid] = user_ratings[:n]\n",
    "    print(top_n)\n",
    "    return top_n"
   ]
  },
  {
   "cell_type": "code",
   "execution_count": 21,
   "id": "03c7ad03",
   "metadata": {},
   "outputs": [
    {
     "name": "stdout",
     "output_type": "stream",
     "text": [
      "defaultdict(<class 'list'>, {100: [(745, 4.071715495733882), (608, 4.014521879030427), (32, 3.8273643331855993)]})\n",
      "100 [745, 608, 32]\n"
     ]
    }
   ],
   "source": [
    "predictions = algo.test(testset)\n",
    "\n",
    "# Then compute RMSE\n",
    "# accuracy.rmse(predictions)\n",
    "\n",
    "top_n = get_top_n(predictions, n=3)\n",
    "\n",
    "# Print the recommended items for each user\n",
    "for uid, user_ratings in top_n.items():\n",
    "    print(uid, [iid for (iid, _) in user_ratings])"
   ]
  },
  {
   "cell_type": "code",
   "execution_count": 22,
   "id": "18dace37",
   "metadata": {},
   "outputs": [
    {
     "data": {
      "text/plain": [
       "defaultdict(list,\n",
       "            {100: [(745, 4.071715495733882),\n",
       "              (608, 4.014521879030427),\n",
       "              (32, 3.8273643331855993)]})"
      ]
     },
     "execution_count": 22,
     "metadata": {},
     "output_type": "execute_result"
    }
   ],
   "source": [
    "top_n"
   ]
  }
 ],
 "metadata": {
  "kernelspec": {
   "display_name": "Python 3 (ipykernel)",
   "language": "python",
   "name": "python3"
  },
  "language_info": {
   "codemirror_mode": {
    "name": "ipython",
    "version": 3
   },
   "file_extension": ".py",
   "mimetype": "text/x-python",
   "name": "python",
   "nbconvert_exporter": "python",
   "pygments_lexer": "ipython3",
   "version": "3.8.10"
  }
 },
 "nbformat": 4,
 "nbformat_minor": 5
}
